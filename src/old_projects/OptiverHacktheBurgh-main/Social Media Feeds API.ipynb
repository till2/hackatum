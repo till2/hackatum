{
 "cells": [
  {
   "cell_type": "code",
   "execution_count": 1,
   "id": "69a933d1-f65e-414a-9a4b-5f803d1d11e6",
   "metadata": {},
   "outputs": [],
   "source": [
    "import datetime as dt\n",
    "import time\n",
    "import logging\n",
    "\n",
    "from optibook.synchronous_client import Exchange\n",
    "from optibook.common_types import SocialMediaFeed\n",
    "logging.getLogger('client').setLevel('ERROR')    "
   ]
  },
  {
   "cell_type": "code",
   "execution_count": 2,
   "id": "74e071e1-bf72-4cee-8d59-a01212bceb0f",
   "metadata": {},
   "outputs": [
    {
     "name": "stderr",
     "output_type": "stream",
     "text": [
      "2023-08-18 09:52:47,692 [asyncio   ] [MainThread  ] Using selector: EpollSelector\n"
     ]
    }
   ],
   "source": [
    "exchange = Exchange()\n",
    "exchange.connect()"
   ]
  },
  {
   "cell_type": "code",
   "execution_count": 3,
   "id": "eaaf4b90-89c0-465d-a1ad-9fae4a1fbaab",
   "metadata": {},
   "outputs": [
    {
     "name": "stdout",
     "output_type": "stream",
     "text": [
      "Help on method poll_new_social_media_feeds in module optibook.synchronous_client:\n",
      "\n",
      "poll_new_social_media_feeds(continuous: bool = False) -> List[optibook.common_types.SocialMediaFeed] method of optibook.synchronous_client.Exchange instance\n",
      "    Polls new social media feeds.\n",
      "    :param continuous: False by default. If True, the client will keep polling.\n",
      "    :return: A list of new social media feeds since last poll.\n",
      "\n"
     ]
    }
   ],
   "source": [
    "help(exchange.poll_new_social_media_feeds)"
   ]
  },
  {
   "cell_type": "code",
   "execution_count": 4,
   "id": "7dbfe8bc-979f-4860-a942-65f024924c10",
   "metadata": {},
   "outputs": [
    {
     "name": "stderr",
     "output_type": "stream",
     "text": [
      "2023-08-18 09:53:04,225 [asyncio   ] [MainThread  ] Using selector: EpollSelector\n"
     ]
    }
   ],
   "source": [
    "feeds = exchange.poll_new_social_media_feeds()\n",
    "print(feeds)"
   ]
  },
  {
   "cell_type": "code",
   "execution_count": null,
   "id": "f0382dc0-406f-4d5d-b2f4-6fa5f57ac5a8",
   "metadata": {},
   "outputs": [],
   "source": [
    "feeds = exchange.poll_new_social_media_feeds(continuous=True)\n",
    "for feed in feeds:\n",
    "    print(feed)"
   ]
  }
 ],
 "metadata": {
  "kernelspec": {
   "display_name": "Python 3",
   "language": "python",
   "name": "python3"
  },
  "language_info": {
   "codemirror_mode": {
    "name": "ipython",
    "version": 3
   },
   "file_extension": ".py",
   "mimetype": "text/x-python",
   "name": "python",
   "nbconvert_exporter": "python",
   "pygments_lexer": "ipython3",
   "version": "3.8.10"
  }
 },
 "nbformat": 4,
 "nbformat_minor": 5
}
