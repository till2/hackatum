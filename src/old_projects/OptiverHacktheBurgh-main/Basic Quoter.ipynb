{
 "cells": [
  {
   "cell_type": "markdown",
   "id": "5f8cb991-b82b-40c0-98e1-00d23f269ebf",
   "metadata": {},
   "source": [
    "# Imports & Setup"
   ]
  },
  {
   "cell_type": "code",
   "execution_count": 1,
   "id": "5aa9c918-0e4d-479f-8844-4561993923bd",
   "metadata": {},
   "outputs": [
    {
     "name": "stderr",
     "output_type": "stream",
     "text": []
    }
   ],
   "source": [
    "import datetime as dt\n",
    "import time\n",
    "import random\n",
    "import logging\n",
    "\n",
    "from optibook.synchronous_client import Exchange\n",
    "from libs import print_positions_and_pnl, round_down_to_tick, round_up_to_tick\n",
    "\n",
    "from IPython.display import clear_output\n",
    "\n",
    "logging.getLogger('client').setLevel('ERROR')    "
   ]
  },
  {
   "cell_type": "markdown",
   "id": "46d6720f-be57-4e67-a95a-9b6458feda69",
   "metadata": {},
   "source": [
    "# Quoting Function\n",
    "\n",
    "This function inserts new bid and ask quotes into the order book. It takes as arguments the target `Exchange` instance, the `Instrument` for which to insert quotes, the prices at which to quote (`bid_price` and `ask_price`), and the volumes to quote (`bid_volume` and `ask_volume`)."
   ]
  },
  {
   "cell_type": "code",
   "execution_count": 2,
   "id": "f8b62437-90c2-4b2e-95cc-ff113138e56a",
   "metadata": {},
   "outputs": [],
   "source": [
    "def insert_quotes(exchange, instrument, bid_price, ask_price, bid_volume, ask_volume):\n",
    "    if bid_volume > 0:\n",
    "        # Insert new bid limit order on the market\n",
    "        exchange.insert_order(\n",
    "            instrument_id=instrument.instrument_id,\n",
    "            price=bid_price,\n",
    "            volume=bid_volume,\n",
    "            side='bid',\n",
    "            order_type='limit',\n",
    "        )\n",
    "        \n",
    "        # Wait for some time to avoid breaching the exchange frequency limit\n",
    "        time.sleep(0.05)\n",
    "\n",
    "    if ask_volume > 0:\n",
    "        # Insert new ask limit order on the market\n",
    "        exchange.insert_order(\n",
    "            instrument_id=instrument.instrument_id,\n",
    "            price=ask_price,\n",
    "            volume=ask_volume,\n",
    "            side='ask',\n",
    "            order_type='limit',\n",
    "        )\n",
    "\n",
    "        # Wait for some time to avoid breaching the exchange frequency limit\n",
    "        time.sleep(0.05)"
   ]
  },
  {
   "cell_type": "markdown",
   "id": "39eac7f1-4d6f-41e1-8e8e-78bb3fcded2b",
   "metadata": {},
   "source": [
    "# Main Quoting Loop\n",
    "\n",
    "This loop runs continuously, updating the quotes based on the current market data and our own position. It fetches the latest market data, calculates the fair price, and adjusts the bid and ask quotes accordingly."
   ]
  },
  {
   "cell_type": "code",
   "execution_count": 3,
   "id": "ebff3680-8e7f-4572-b580-bd79a6cd19e4",
   "metadata": {},
   "outputs": [],
   "source": [
    "exchange = Exchange()\n",
    "exchange.connect()\n",
    "\n",
    "INSTRUMENTS = exchange.get_instruments()\n",
    "\n",
    "QUOTED_VOLUME = 10\n",
    "FIXED_MINIMUM_CREDIT = 0.15\n",
    "PRICE_RETREAT_PER_LOT = 0.005\n",
    "POSITION_LIMIT = 100\n",
    "\n",
    "while True:\n",
    "    print(f'')\n",
    "    print(f'-----------------------------------------------------------------')\n",
    "    print(f'TRADE LOOP ITERATION ENTERED AT {str(dt.datetime.now()):18s} UTC.')\n",
    "    print(f'-----------------------------------------------------------------')\n",
    "\n",
    "    # Display our own current positions in all stocks, and our PnL so far\n",
    "    print_positions_and_pnl(exchange)\n",
    "    print(f'')\n",
    "    print(f'          (ourbid) mktbid :: mktask (ourask)')\n",
    "    \n",
    "    for instrument in INSTRUMENTS.values():\n",
    "        # Remove all existing (still) outstanding limit orders\n",
    "        exchange.delete_orders(instrument.instrument_id)\n",
    "        \n",
    "        # Obtain latest market data for the instrument\n",
    "        instrument_order_book = exchange.get_last_price_book(instrument.instrument_id)\n",
    "        if not (instrument_order_book and instrument_order_book.bids and instrument_order_book.asks):\n",
    "            print(f'{instrument.instrument_id:>6s} --     INCOMPLETE ORDER BOOK')\n",
    "            continue\n",
    "        \n",
    "        # Obtain own current position in instrument\n",
    "        position = exchange.get_positions()[instrument.instrument_id]\n",
    "\n",
    "        # Obtain best bid and ask prices from order book to determine mid price\n",
    "        best_bid_price = instrument_order_book.bids[0].price\n",
    "        best_ask_price = instrument_order_book.asks[0].price\n",
    "        mid_price = (best_bid_price + best_ask_price) / 2.0 \n",
    "        \n",
    "        # Calculate our fair/theoretical price based on the market mid price and our current position\n",
    "        theoretical_price = mid_price - PRICE_RETREAT_PER_LOT * position # HERE\n",
    "\n",
    "        # Calculate final bid and ask prices to insert\n",
    "        bid_price = round_down_to_tick(theoretical_price - FIXED_MINIMUM_CREDIT, instrument.tick_size)\n",
    "        ask_price = round_up_to_tick(theoretical_price + FIXED_MINIMUM_CREDIT, instrument.tick_size)\n",
    "        \n",
    "        # Calculate bid and ask volumes to insert, taking into account the exchange position_limit\n",
    "        max_volume_to_buy = POSITION_LIMIT - position\n",
    "        max_volume_to_sell = POSITION_LIMIT + position\n",
    "\n",
    "        bid_volume = min(QUOTED_VOLUME, max_volume_to_buy)\n",
    "        ask_volume = min(QUOTED_VOLUME, max_volume_to_sell)\n",
    "\n",
    "        # Display information for tracking the algorithm's actions\n",
    "        print(f'{instrument.instrument_id:>6s} -- ({bid_price:>6.2f}) {best_bid_price:>6.2f} :: {best_ask_price:>6.2f} ({ask_price:>6.2f})')\n",
    "        \n",
    "        # Insert new quotes\n",
    "        insert_quotes(exchange, instrument, bid_price, ask_price, bid_volume, ask_volume)\n",
    "        \n",
    "    # Wait for a few seconds to refresh the quotes\n",
    "    print(f'\\nWaiting for 2 seconds.')\n",
    "    time.sleep(2)\n",
    "    \n",
    "    # Clear the displayed information after waiting\n",
    "    clear_output(wait=True)"
   ]
  }
 ],
 "metadata": {
  "kernelspec": {
   "display_name": "Python 3",
   "language": "python",
   "name": "python3"
  },
  "language_info": {
   "codemirror_mode": {
    "name": "ipython",
    "version": 3
   },
   "file_extension": ".py",
   "mimetype": "text/x-python",
   "name": "python",
   "nbconvert_exporter": "python",
   "pygments_lexer": "ipython3",
   "version": "3.8.10"
  }
 },
 "nbformat": 4,
 "nbformat_minor": 5
}
