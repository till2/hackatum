{
 "cells": [
  {
   "cell_type": "code",
   "execution_count": 13,
   "metadata": {},
   "outputs": [],
   "source": [
    "import time\n",
    "from synchronous_client import Exchange"
   ]
  },
  {
   "cell_type": "code",
   "execution_count": 14,
   "metadata": {},
   "outputs": [
    {
     "name": "stderr",
     "output_type": "stream",
     "text": [
      "INFO:synchronous_client:Exchange initialized.\n",
      "INFO:synchronous_client:Connected to Exchange Simulator.\n"
     ]
    }
   ],
   "source": [
    "# Initialize Exchange\n",
    "exchange = Exchange()\n",
    "exchange.connect()"
   ]
  },
  {
   "cell_type": "code",
   "execution_count": 17,
   "metadata": {},
   "outputs": [
    {
     "data": {
      "text/plain": [
       "PriceBook(bid_prices=[], ask_prices=[])"
      ]
     },
     "execution_count": 17,
     "metadata": {},
     "output_type": "execute_result"
    }
   ],
   "source": [
    "exchange.price_books.get(\"AAPL\")\n"
   ]
  },
  {
   "cell_type": "code",
   "execution_count": 3,
   "metadata": {},
   "outputs": [
    {
     "name": "stdout",
     "output_type": "stream",
     "text": [
      "Available Instruments: ['AAPL', 'GOOG', 'MSFT']\n"
     ]
    }
   ],
   "source": [
    "# Get Instruments\n",
    "instruments = exchange.get_instruments()\n",
    "print(\"Available Instruments:\", instruments)"
   ]
  },
  {
   "cell_type": "code",
   "execution_count": 4,
   "metadata": {},
   "outputs": [
    {
     "name": "stderr",
     "output_type": "stream",
     "text": [
      "INFO:synchronous_client:Inserted ask ioc order: Order(order_id=1, instrument_id='AAPL', price=150.0, volume=100, side='ask', order_type='ioc', user_id='0')\n",
      "INFO:synchronous_client:IOC order 1 canceled remaining volume 100.\n",
      "INFO:synchronous_client:Inserted bid limit order: Order(order_id=2, instrument_id='AAPL', price=150.0, volume=10, side='bid', order_type='limit', user_id='1')\n",
      "INFO:synchronous_client:Inserted ask limit order: Order(order_id=3, instrument_id='AAPL', price=150.0, volume=15, side='ask', order_type='limit', user_id='2')\n",
      "INFO:synchronous_client:Trade executed: Trade(trade_id=1, instrument_id='AAPL', price=150.0, volume=10, aggressor='buyer', buyer_id='1', seller_id='2')\n",
      "INFO:synchronous_client:Inserted bid ioc order: Order(order_id=4, instrument_id='AAPL', price=150.0, volume=7, side='bid', order_type='ioc', user_id='3')\n",
      "INFO:synchronous_client:Trade executed: Trade(trade_id=2, instrument_id='AAPL', price=150.0, volume=5, aggressor='buyer', buyer_id='3', seller_id='2')\n",
      "INFO:synchronous_client:IOC order 4 partially filled with volume 5.\n",
      "INFO:synchronous_client:IOC order 4 canceled remaining volume 2.\n"
     ]
    },
    {
     "name": "stdout",
     "output_type": "stream",
     "text": [
      "Outstanding Orders: []\n"
     ]
    }
   ],
   "source": [
    "order = exchange.insert_order(instrument_id=\"AAPL\", price=150.0, volume=100, side=\"ask\", order_type=\"ioc\", user_id=\"0\")\n",
    "order = exchange.insert_order(instrument_id=\"AAPL\", price=150.0, volume=10, side=\"bid\", order_type=\"limit\", user_id=\"1\")\n",
    "order = exchange.insert_order(instrument_id=\"AAPL\", price=150.0, volume=15, side=\"ask\", order_type=\"limit\", user_id=\"2\")\n",
    "order = exchange.insert_order(instrument_id=\"AAPL\", price=150.0, volume=7, side=\"bid\", order_type=\"ioc\", user_id=\"3\")\n",
    "print(\"Outstanding Orders:\", exchange.get_outstanding_orders(\"AAPL\"))"
   ]
  },
  {
   "cell_type": "code",
   "execution_count": 5,
   "metadata": {},
   "outputs": [
    {
     "name": "stderr",
     "output_type": "stream",
     "text": [
      "INFO:synchronous_client:Inserted ask limit order: Order(order_id=5, instrument_id='AAPL', price=150.0, volume=10, side='ask', order_type='limit', user_id='0')\n",
      "INFO:synchronous_client:Inserted bid limit order: Order(order_id=6, instrument_id='AAPL', price=150.0, volume=10, side='bid', order_type='limit', user_id='1')\n",
      "INFO:synchronous_client:Trade executed: Trade(trade_id=3, instrument_id='AAPL', price=150.0, volume=10, aggressor='buyer', buyer_id='1', seller_id='0')\n"
     ]
    }
   ],
   "source": [
    "# Place ask\n",
    "order = exchange.insert_order(instrument_id=\"AAPL\", price=150.0, volume=10, side=\"ask\", order_type=\"limit\", user_id=\"0\")\n",
    "\n",
    "# Place bid (at min ask price)\n",
    "outstanding = exchange.get_outstanding_orders(\"AAPL\")\n",
    "if outstanding:\n",
    "    order = exchange.insert_order(instrument_id=\"AAPL\", price=max([ask.price for ask in outstanding]), volume=10, side=\"bid\", order_type=\"limit\", user_id=\"1\")"
   ]
  },
  {
   "cell_type": "code",
   "execution_count": 6,
   "metadata": {},
   "outputs": [
    {
     "name": "stderr",
     "output_type": "stream",
     "text": [
      "INFO:synchronous_client:Inserted bid limit order: Order(order_id=7, instrument_id='AAPL', price=152.0, volume=10, side='bid', order_type='limit', user_id='0')\n",
      "INFO:synchronous_client:Inserted ask limit order: Order(order_id=8, instrument_id='AAPL', price=152.0, volume=10, side='ask', order_type='limit', user_id='1')\n",
      "INFO:synchronous_client:Trade executed: Trade(trade_id=4, instrument_id='AAPL', price=152.0, volume=10, aggressor='buyer', buyer_id='0', seller_id='1')\n"
     ]
    }
   ],
   "source": [
    "# Place bid\n",
    "order = exchange.insert_order(instrument_id=\"AAPL\", price=152.0, volume=10, side=\"bid\", order_type=\"limit\", user_id=\"0\")\n",
    "\n",
    "# Place ask (at max bid price)\n",
    "outstanding = exchange.get_outstanding_orders(\"AAPL\")\n",
    "if outstanding:\n",
    "    order = exchange.insert_order(instrument_id=\"AAPL\", price=max([bid.price for bid in outstanding]), volume=10, side=\"ask\", order_type=\"limit\", user_id=\"1\")\n"
   ]
  },
  {
   "cell_type": "code",
   "execution_count": 7,
   "metadata": {},
   "outputs": [
    {
     "name": "stdout",
     "output_type": "stream",
     "text": [
      "Outstanding Orders for AAPL: []\n"
     ]
    }
   ],
   "source": [
    "# Check Outstanding Orders\n",
    "outstanding = exchange.get_outstanding_orders(\"AAPL\")\n",
    "print(\"Outstanding Orders for AAPL:\", outstanding)"
   ]
  },
  {
   "cell_type": "code",
   "execution_count": 8,
   "metadata": {},
   "outputs": [
    {
     "name": "stdout",
     "output_type": "stream",
     "text": [
      "Trade History for AAPL:\n",
      "Trade(trade_id=1, instrument_id='AAPL', price=150.0, volume=10, aggressor='buyer', buyer_id='1', seller_id='2')\n",
      "Trade(trade_id=2, instrument_id='AAPL', price=150.0, volume=5, aggressor='buyer', buyer_id='3', seller_id='2')\n",
      "Trade(trade_id=3, instrument_id='AAPL', price=150.0, volume=10, aggressor='buyer', buyer_id='1', seller_id='0')\n",
      "Trade(trade_id=4, instrument_id='AAPL', price=152.0, volume=10, aggressor='buyer', buyer_id='0', seller_id='1')\n"
     ]
    }
   ],
   "source": [
    "# Get Trade History\n",
    "trades = exchange.get_trade_history(\"AAPL\")\n",
    "print(\"Trade History for AAPL:\")\n",
    "for trade in trades:\n",
    "    print(trade)"
   ]
  },
  {
   "cell_type": "code",
   "execution_count": 9,
   "metadata": {},
   "outputs": [
    {
     "name": "stdout",
     "output_type": "stream",
     "text": [
      "Positions and Cash: {'positions': {'AAPL': 35, 'GOOG': 0, 'MSFT': 0}, 'cash': 94730.0}\n"
     ]
    }
   ],
   "source": [
    "# Get Positions and Cash\n",
    "positions_cash = exchange.get_positions_and_cash()\n",
    "print(\"Positions and Cash:\", positions_cash)"
   ]
  },
  {
   "cell_type": "code",
   "execution_count": 10,
   "metadata": {},
   "outputs": [
    {
     "name": "stderr",
     "output_type": "stream",
     "text": [
      "WARNING:synchronous_client:Order ID 8 not found for instrument AAPL.\n"
     ]
    }
   ],
   "source": [
    "# Amend an Order\n",
    "if order:\n",
    "    exchange.amend_order(instrument_id=\"AAPL\", order_id=order.order_id, price=152.0, volume=8)\n"
   ]
  },
  {
   "cell_type": "code",
   "execution_count": 11,
   "metadata": {},
   "outputs": [
    {
     "name": "stderr",
     "output_type": "stream",
     "text": [
      "WARNING:synchronous_client:Order ID 8 not found for instrument AAPL.\n"
     ]
    }
   ],
   "source": [
    "# Delete an Order\n",
    "if order:\n",
    "    exchange.delete_order(instrument_id=\"AAPL\", order_id=order.order_id)\n"
   ]
  },
  {
   "cell_type": "code",
   "execution_count": null,
   "metadata": {},
   "outputs": [],
   "source": []
  },
  {
   "cell_type": "code",
   "execution_count": 12,
   "metadata": {},
   "outputs": [
    {
     "name": "stderr",
     "output_type": "stream",
     "text": [
      "INFO:synchronous_client:Disconnected from Exchange Simulator.\n"
     ]
    }
   ],
   "source": [
    "# Disconnect Exchange\n",
    "exchange.disconnect()"
   ]
  },
  {
   "cell_type": "code",
   "execution_count": null,
   "metadata": {},
   "outputs": [],
   "source": []
  }
 ],
 "metadata": {
  "kernelspec": {
   "display_name": "Python 3",
   "language": "python",
   "name": "python3"
  },
  "language_info": {
   "codemirror_mode": {
    "name": "ipython",
    "version": 3
   },
   "file_extension": ".py",
   "mimetype": "text/x-python",
   "name": "python",
   "nbconvert_exporter": "python",
   "pygments_lexer": "ipython3",
   "version": "3.10.6"
  }
 },
 "nbformat": 4,
 "nbformat_minor": 2
}
